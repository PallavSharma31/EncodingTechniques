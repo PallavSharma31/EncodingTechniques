{
 "cells": [
  {
   "cell_type": "code",
   "execution_count": 1,
   "id": "23ef4c98",
   "metadata": {},
   "outputs": [],
   "source": [
    "import pandas as pd\n",
    "from sklearn.preprocessing import OneHotEncoder, OrdinalEncoder, LabelEncoder"
   ]
  },
  {
   "cell_type": "code",
   "execution_count": 2,
   "id": "98048aa3",
   "metadata": {},
   "outputs": [
    {
     "name": "stdout",
     "output_type": "stream",
     "text": [
      "   age  gender   review education purchased\n",
      "0   30  Female  Average    School        No\n",
      "1   68  Female     Poor        UG        No\n",
      "2   70  Female     Good        PG        No\n",
      "3   72  Female     Good        PG        No\n",
      "4   16  Female  Average        UG        No\n"
     ]
    }
   ],
   "source": [
    "# Load the data\n",
    "df = pd.read_csv('customer.csv')\n",
    "print(df.head())"
   ]
  },
  {
   "cell_type": "code",
   "execution_count": 3,
   "id": "3216a8ef",
   "metadata": {},
   "outputs": [
    {
     "name": "stdout",
     "output_type": "stream",
     "text": [
      "   age   review education purchased  gender_Female  gender_Male\n",
      "0   30  Average    School        No            1.0          0.0\n",
      "1   68     Poor        UG        No            1.0          0.0\n",
      "2   70     Good        PG        No            1.0          0.0\n",
      "3   72     Good        PG        No            1.0          0.0\n",
      "4   16  Average        UG        No            1.0          0.0\n"
     ]
    }
   ],
   "source": [
    "enc = OneHotEncoder(sparse=False)\n",
    "gender_encoded = enc.fit_transform(df[['gender']])\n",
    "gender_df = pd.DataFrame(gender_encoded, columns=enc.get_feature_names(['gender']))\n",
    "df = pd.concat([df, gender_df], axis=1).drop(['gender'], axis=1)\n",
    "print(df.head())"
   ]
  },
  {
   "cell_type": "code",
   "execution_count": 4,
   "id": "804196b7",
   "metadata": {},
   "outputs": [],
   "source": [
    "# Apply ordinal encoding to the review and education columns\n",
    "enc = OrdinalEncoder(categories=[['Poor', 'Average', 'Good']])\n",
    "review_encoded = enc.fit_transform(df[['review']])\n",
    "df['review'] = review_encoded.astype(int)\n",
    "\n",
    "enc = OrdinalEncoder(categories=[['School', 'UG', 'PG']])\n",
    "education_encoded = enc.fit_transform(df[['education']])\n",
    "df['education'] = education_encoded.astype(int)"
   ]
  },
  {
   "cell_type": "code",
   "execution_count": 6,
   "id": "8b6001ec",
   "metadata": {},
   "outputs": [
    {
     "name": "stdout",
     "output_type": "stream",
     "text": [
      "   age  review  education purchased  gender_Female  gender_Male\n",
      "0   30       1          0        No            1.0          0.0\n",
      "1   68       0          1        No            1.0          0.0\n",
      "2   70       2          2        No            1.0          0.0\n",
      "3   72       2          2        No            1.0          0.0\n",
      "4   16       1          1        No            1.0          0.0\n"
     ]
    }
   ],
   "source": [
    "print(df.head())"
   ]
  },
  {
   "cell_type": "code",
   "execution_count": 7,
   "id": "4069028a",
   "metadata": {},
   "outputs": [
    {
     "name": "stdout",
     "output_type": "stream",
     "text": [
      "0    0\n",
      "1    0\n",
      "2    0\n",
      "3    0\n",
      "4    0\n",
      "Name: purchased, dtype: int32\n"
     ]
    }
   ],
   "source": [
    "# Apply label encoding to the purchased column\n",
    "enc = LabelEncoder()\n",
    "df['purchased'] = enc.fit_transform(df['purchased'])\n",
    "print(df['purchased'].head())"
   ]
  },
  {
   "cell_type": "code",
   "execution_count": 8,
   "id": "15f1428e",
   "metadata": {},
   "outputs": [
    {
     "name": "stdout",
     "output_type": "stream",
     "text": [
      "   age  review  education  purchased  gender_Female  gender_Male\n",
      "0   30       1          0          0            1.0          0.0\n",
      "1   68       0          1          0            1.0          0.0\n",
      "2   70       2          2          0            1.0          0.0\n",
      "3   72       2          2          0            1.0          0.0\n",
      "4   16       1          1          0            1.0          0.0\n"
     ]
    }
   ],
   "source": [
    "# Show the encoded data\n",
    "print(df.head())"
   ]
  }
 ],
 "metadata": {
  "kernelspec": {
   "display_name": "Python 3 (ipykernel)",
   "language": "python",
   "name": "python3"
  },
  "language_info": {
   "codemirror_mode": {
    "name": "ipython",
    "version": 3
   },
   "file_extension": ".py",
   "mimetype": "text/x-python",
   "name": "python",
   "nbconvert_exporter": "python",
   "pygments_lexer": "ipython3",
   "version": "3.9.0"
  }
 },
 "nbformat": 4,
 "nbformat_minor": 5
}
